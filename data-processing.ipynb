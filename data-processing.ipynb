{
 "cells": [
  {
   "cell_type": "markdown",
   "id": "410bc72e-a618-4e03-9580-f75ea91dcb13",
   "metadata": {},
   "source": [
    "## Data Preprocessing"
   ]
  },
  {
   "cell_type": "markdown",
   "id": "757d04b6-7f57-4884-850e-bbfbdc24575f",
   "metadata": {},
   "source": [
    "### Use Spark to get data"
   ]
  },
  {
   "cell_type": "code",
   "execution_count": 2,
   "id": "d45123c4-d205-469b-ac1a-134340e0cb83",
   "metadata": {
    "vscode": {
     "languageId": "python_glue_session"
    }
   },
   "outputs": [
    {
     "name": "stdout",
     "output_type": "stream",
     "text": [
      "Welcome to the Glue Interactive Sessions Kernel\n",
      "For more information on available magic commands, please type %help in any new cell.\n",
      "\n",
      "Please view our Getting Started page to access the most up-to-date information on the Interactive Sessions kernel: https://docs.aws.amazon.com/glue/latest/dg/interactive-sessions.html\n",
      "Installed kernel version: 1.0.7 \n"
     ]
    },
    {
     "data": {
      "text/markdown": [
       "\n",
       "# Available Magic Commands\n",
       "\n",
       "## Sessions Magic\n",
       "\n",
       "----\n",
       "    %help                             Return a list of descriptions and input types for all magic commands. \n",
       "    %profile            String        Specify a profile in your aws configuration to use as the credentials provider.\n",
       "    %region             String        Specify the AWS region in which to initialize a session. \n",
       "                                      Default from ~/.aws/config on Linux or macOS, \n",
       "                                      or C:\\Users\\ USERNAME \\.aws\\config\" on Windows.\n",
       "    %idle_timeout       Int           The number of minutes of inactivity after which a session will timeout. \n",
       "                                      Default: 2880 minutes (48 hours).\n",
       "    %timeout            Int           The number of minutes after which a session will timeout. \n",
       "                                      Default: 2880 minutes (48 hours).\n",
       "    %session_id_prefix  String        Define a String that will precede all session IDs in the format \n",
       "                                      [session_id_prefix]-[session_id]. If a session ID is not provided,\n",
       "                                      a random UUID will be generated.\n",
       "    %status                           Returns the status of the current Glue session including its duration, \n",
       "                                      configuration and executing user / role.\n",
       "    %session_id                       Returns the session ID for the running session.\n",
       "    %list_sessions                    Lists all currently running sessions by ID.\n",
       "    %stop_session                     Stops the current session.\n",
       "    %glue_version       String        The version of Glue to be used by this session. \n",
       "                                      Currently, the only valid options are 2.0, 3.0 and 4.0. \n",
       "                                      Default: 2.0.\n",
       "    %reconnect          String        Specify a live session ID to switch/reconnect to the sessions.\n",
       "----\n",
       "\n",
       "## Selecting Session Types\n",
       "\n",
       "----\n",
       "    %streaming          String        Sets the session type to Glue Streaming.\n",
       "    %etl                String        Sets the session type to Glue ETL.\n",
       "    %session_type       String        Specify a session_type to be used. Supported values: streaming and etl.\n",
       "----\n",
       "\n",
       "## Glue Config Magic \n",
       "*(common across all session types)*\n",
       "\n",
       "----\n",
       "\n",
       "    %%configure         Dictionary    A json-formatted dictionary consisting of all configuration parameters for \n",
       "                                      a session. Each parameter can be specified here or through individual magics.\n",
       "    %iam_role           String        Specify an IAM role ARN to execute your session with.\n",
       "                                      Default from ~/.aws/config on Linux or macOS, \n",
       "                                      or C:\\Users\\%USERNAME%\\.aws\\config` on Windows.\n",
       "    %number_of_workers  int           The number of workers of a defined worker_type that are allocated \n",
       "                                      when a session runs.\n",
       "                                      Default: 5.\n",
       "    %additional_python_modules  List  Comma separated list of additional Python modules to include in your cluster \n",
       "                                      (can be from Pypi or S3).\n",
       "    %%tags        Dictionary          Specify a json-formatted dictionary consisting of tags to use in the session.\n",
       "    \n",
       "    %%assume_role Dictionary, String  Specify a json-formatted dictionary or an IAM role ARN string to create a session \n",
       "                                      for cross account access.\n",
       "                                      E.g. {valid arn}\n",
       "                                      %%assume_role \n",
       "                                      'arn:aws:iam::XXXXXXXXXXXX:role/AWSGlueServiceRole' \n",
       "                                      E.g. {credentials}\n",
       "                                      %%assume_role\n",
       "                                      {\n",
       "                                            \"aws_access_key_id\" : \"XXXXXXXXXXXX\",\n",
       "                                            \"aws_secret_access_key\" : \"XXXXXXXXXXXX\",\n",
       "                                            \"aws_session_token\" : \"XXXXXXXXXXXX\"\n",
       "                                       }\n",
       "----\n",
       "\n",
       "                                      \n",
       "## Magic for Spark Sessions (ETL & Streaming)\n",
       "\n",
       "----\n",
       "    %worker_type        String        Set the type of instances the session will use as workers. \n",
       "    %connections        List          Specify a comma separated list of connections to use in the session.\n",
       "    %extra_py_files     List          Comma separated list of additional Python files From S3.\n",
       "    %extra_jars         List          Comma separated list of additional Jars to include in the cluster.\n",
       "    %spark_conf         String        Specify custom spark configurations for your session. \n",
       "                                      E.g. %spark_conf spark.serializer=org.apache.spark.serializer.KryoSerializer\n",
       "----\n",
       "\n",
       "## Action Magic\n",
       "\n",
       "----\n",
       "\n",
       "    %%sql               String        Run SQL code. All lines after the initial %%sql magic will be passed\n",
       "                                      as part of the SQL code.  \n",
       "    %matplot      Matplotlib figure   Visualize your data using the matplotlib library.\n",
       "                                      E.g. \n",
       "                                      import matplotlib.pyplot as plt\n",
       "                                      # Set X-axis and Y-axis values\n",
       "                                      x = [5, 2, 8, 4, 9]\n",
       "                                      y = [10, 4, 8, 5, 2]\n",
       "                                      # Create a bar chart \n",
       "                                      plt.bar(x, y) \n",
       "                                      # Show the plot\n",
       "                                      %matplot plt    \n",
       "    %plotly            Plotly figure  Visualize your data using the plotly library.\n",
       "                                      E.g.\n",
       "                                      import plotly.express as px\n",
       "                                      #Create a graphical figure\n",
       "                                      fig = px.line(x=[\"a\",\"b\",\"c\"], y=[1,3,2], title=\"sample figure\")\n",
       "                                      #Show the figure\n",
       "                                      %plotly fig\n",
       "\n",
       "  \n",
       "                \n",
       "----\n",
       "\n"
      ]
     },
     "metadata": {},
     "output_type": "display_data"
    }
   ],
   "source": [
    "%help"
   ]
  },
  {
   "cell_type": "markdown",
   "id": "664a57be-49cb-4142-bee1-9d31d8be31da",
   "metadata": {},
   "source": [
    "### Setup the session"
   ]
  },
  {
   "cell_type": "code",
   "execution_count": 1,
   "id": "7d1648d9-c12d-4d56-972b-8e304f818bbf",
   "metadata": {
    "vscode": {
     "languageId": "python_glue_session"
    }
   },
   "outputs": [
    {
     "name": "stdout",
     "output_type": "stream",
     "text": [
      "Welcome to the Glue Interactive Sessions Kernel\n",
      "For more information on available magic commands, please type %help in any new cell.\n",
      "\n",
      "Please view our Getting Started page to access the most up-to-date information on the Interactive Sessions kernel: https://docs.aws.amazon.com/glue/latest/dg/interactive-sessions.html\n",
      "Installed kernel version: 1.0.7 \n",
      "Trying to create a Glue session for the kernel.\n",
      "Session Type: etl\n",
      "Session ID: 2083d2d9-10b3-457d-9817-dfc9ed6da1ea\n",
      "Applying the following default arguments:\n",
      "--glue_kernel_version 1.0.7\n",
      "--enable-glue-datacatalog true\n",
      "Waiting for session 2083d2d9-10b3-457d-9817-dfc9ed6da1ea to get into ready status...\n",
      "Session 2083d2d9-10b3-457d-9817-dfc9ed6da1ea has been created.\n",
      "\n"
     ]
    }
   ],
   "source": [
    "import boto3\n",
    "import pyspark.sql.functions as F\n",
    "from pyspark.sql import SparkSession\n",
    "from pyspark.sql import Window\n",
    "\n",
    "spark = SparkSession.builder \\\n",
    "    .appName(\"CryptoDataProcessing\") \\\n",
    "    .getOrCreate()"
   ]
  },
  {
   "cell_type": "code",
   "execution_count": 2,
   "id": "5e17682c-21c0-4cdb-a9b2-bb248f345ef1",
   "metadata": {
    "vscode": {
     "languageId": "python_glue_session"
    }
   },
   "outputs": [
    {
     "name": "stdout",
     "output_type": "stream",
     "text": [
      "Current active Session ID: 2083d2d9-10b3-457d-9817-dfc9ed6da1ea\n"
     ]
    }
   ],
   "source": [
    "%session_id "
   ]
  },
  {
   "cell_type": "code",
   "execution_count": 59,
   "id": "cd48641a-3334-4b04-ac1b-7ea6d381ed6b",
   "metadata": {
    "vscode": {
     "languageId": "python_glue_session"
    }
   },
   "outputs": [
    {
     "name": "stdout",
     "output_type": "stream",
     "text": [
      "\n"
     ]
    }
   ],
   "source": [
    "# Define file path to access bucket\n",
    "bucket_name = \"crypto-marketdata-marketdatabucket-m13jkiz8o4p7\"\n",
    "period = \"1h\"\n",
    "year=\"2024\"\n",
    "btc_file_path = \"s3://{}/marketdata/crypto/BTCUSDT-{}-{}-*.snappy.parquet\".format(bucket_name, period, year)"
   ]
  },
  {
   "cell_type": "code",
   "execution_count": 60,
   "id": "98f9c775-cb77-40e9-bba7-865d3626cf61",
   "metadata": {
    "vscode": {
     "languageId": "python_glue_session"
    }
   },
   "outputs": [
    {
     "name": "stdout",
     "output_type": "stream",
     "text": [
      "\n"
     ]
    }
   ],
   "source": [
    "# Load the data\n",
    "btc_data = spark.read.parquet(btc_file_path)"
   ]
  },
  {
   "cell_type": "code",
   "execution_count": 29,
   "id": "87380971-f80a-4981-a5be-ac2b11dac870",
   "metadata": {
    "vscode": {
     "languageId": "python_glue_session"
    }
   },
   "outputs": [
    {
     "name": "stdout",
     "output_type": "stream",
     "text": [
      "[Row(open_time=datetime.datetime(2017, 12, 1, 1, 0), open=9685.02, high=9720.0, low=9550.0, close=9635.0, vol=279.578526, close_time=datetime.datetime(2017, 12, 1, 1, 59, 59, 999000), quote_asset_vol=2690971.25173209, number_of_trades=1488, taker_base_asset_vol=137.232568, taker_quote_asset_vol=1321250.32929446, ignore=34409.30772883, ticker='BTCUSDT')]\n"
     ]
    }
   ],
   "source": [
    "btc_data.head(1)"
   ]
  },
  {
   "cell_type": "markdown",
   "id": "22749175-4607-4e9f-b218-684e19dc2c84",
   "metadata": {},
   "source": [
    "### Extra data"
   ]
  },
  {
   "cell_type": "code",
   "execution_count": 24,
   "id": "7f668cea-6b16-416c-bf2b-ae65b05d5ee7",
   "metadata": {
    "vscode": {
     "languageId": "python_glue_session"
    }
   },
   "outputs": [
    {
     "name": "stdout",
     "output_type": "stream",
     "text": [
      "\n"
     ]
    }
   ],
   "source": [
    "def calculate_sma(df, window_size):\n",
    "    return df.withColumn(\"SMA_{}\".format(window_size), F.avg(\"close\").over(Window.orderBy(\"close_time\").rowsBetween(-window_size + 1, 0)))"
   ]
  },
  {
   "cell_type": "code",
   "execution_count": 61,
   "id": "96d5a232-06c4-4cfe-9d23-b6b6b48ec094",
   "metadata": {
    "vscode": {
     "languageId": "python_glue_session"
    }
   },
   "outputs": [
    {
     "name": "stdout",
     "output_type": "stream",
     "text": [
      "\n"
     ]
    }
   ],
   "source": [
    "# Calculate Simply Moving Average (SMA) for both BTC and ETH for 10 days(240 hr) and 20 days(480 hr)\n",
    "\n",
    "btc_data = calculate_sma(btc_data, 240)\n",
    "btc_data = calculate_sma(btc_data, 480)"
   ]
  },
  {
   "cell_type": "code",
   "execution_count": 63,
   "id": "1b86e89d-0741-4cdf-8d16-476c91a0a487",
   "metadata": {
    "vscode": {
     "languageId": "python_glue_session"
    }
   },
   "outputs": [
    {
     "name": "stdout",
     "output_type": "stream",
     "text": [
      "[Row(close_time=datetime.datetime(2024, 1, 1, 1, 59, 59, 999000), open_time=datetime.datetime(2024, 1, 1, 1, 0), open=42475.23, high=42775.0, low=42431.65, close=42613.56, vol=1196.37856, quote_asset_vol=50984893.3481416, number_of_trades=50396, taker_base_asset_vol=712.32227, taker_quote_asset_vol=30355645.3482764, ignore=0, ticker='BTCUSDT', SMA_240=42613.56, SMA_480=42613.56, RSI=None)]\n"
     ]
    }
   ],
   "source": [
    "btc_data.head(1)"
   ]
  },
  {
   "cell_type": "code",
   "execution_count": 26,
   "id": "954f4128-0c40-417e-ae12-f61b40b86e18",
   "metadata": {
    "vscode": {
     "languageId": "python_glue_session"
    }
   },
   "outputs": [
    {
     "name": "stdout",
     "output_type": "stream",
     "text": [
      "\n"
     ]
    }
   ],
   "source": [
    "def calculate_rsi(df, window_size):\n",
    "    columns = [\"close_time\", \"close\"]\n",
    "    rsi = df.select(columns)\n",
    "    rsi = rsi.withColumn(\"delta\", F.col(\"close\") - F.lag(\"close\").over(Window.orderBy(\"close_time\")))\n",
    "    rsi = rsi.withColumn(\"gain\", F.when(F.col(\"delta\") > 0, F.col(\"delta\")).otherwise(0))\n",
    "    rsi = rsi.withColumn(\"loss\", F.when(F.col(\"delta\") < 0, -F.col(\"delta\")).otherwise(0))\n",
    "\n",
    "    window = Window.orderBy(\"close_time\").rowsBetween(-window_size + 1, 0)\n",
    "    rsi = rsi.withColumn(\"avg_gain\", F.avg(\"gain\").over(window))\n",
    "    rsi = rsi.withColumn(\"avg_loss\", F.avg(\"loss\").over(window))\n",
    "\n",
    "    rsi = rsi.withColumn(\"rs\", F.col(\"avg_gain\") / F.col(\"avg_loss\"))\n",
    "    rsi = rsi.withColumn(\"RSI\", 100 - (100 / (1 + F.col(\"rs\"))))\n",
    "\n",
    "    return df.join(rsi.select([\"RSI\", \"close_time\"]), on=\"close_time\", how=\"left\")"
   ]
  },
  {
   "cell_type": "code",
   "execution_count": 62,
   "id": "416a3d1a-6ea1-4d70-b3fc-f8c33dcde4e8",
   "metadata": {
    "vscode": {
     "languageId": "python_glue_session"
    }
   },
   "outputs": [
    {
     "name": "stdout",
     "output_type": "stream",
     "text": [
      "\n"
     ]
    }
   ],
   "source": [
    "# Calculate Relative Strength Index (RSI) for both BTC and ETH Over 336 hr (14 days)\n",
    "btc_data = calculate_rsi(btc_data, 336)"
   ]
  },
  {
   "cell_type": "code",
   "execution_count": 64,
   "id": "41c13563-3673-436f-9f72-3e53001969b3",
   "metadata": {
    "vscode": {
     "languageId": "python_glue_session"
    }
   },
   "outputs": [
    {
     "name": "stdout",
     "output_type": "stream",
     "text": [
      "[Row(close_time=datetime.datetime(2024, 1, 1, 1, 59, 59, 999000), open_time=datetime.datetime(2024, 1, 1, 1, 0), open=42475.23, high=42775.0, low=42431.65, close=42613.56, vol=1196.37856, quote_asset_vol=50984893.3481416, number_of_trades=50396, taker_base_asset_vol=712.32227, taker_quote_asset_vol=30355645.3482764, ignore=0, ticker='BTCUSDT', SMA_240=42613.56, SMA_480=42613.56, RSI=None), Row(close_time=datetime.datetime(2024, 1, 1, 2, 59, 59, 999000), open_time=datetime.datetime(2024, 1, 1, 2, 0), open=42613.57, high=42638.41, low=42500.0, close=42581.1, vol=685.2198, quote_asset_vol=29167377.9732375, number_of_trades=29863, taker_base_asset_vol=288.98864, taker_quote_asset_vol=12301017.299762, ignore=0, ticker='BTCUSDT', SMA_240=42597.33, SMA_480=42597.33, RSI=0.0), Row(close_time=datetime.datetime(2024, 1, 1, 3, 59, 59, 999000), open_time=datetime.datetime(2024, 1, 1, 3, 0), open=42581.09, high=42586.64, low=42230.08, close=42330.49, vol=794.80391, quote_asset_vol=33709050.2741136, number_of_trades=38620, taker_base_asset_vol=356.37209, taker_quote_asset_vol=15112996.3758499, ignore=0, ticker='BTCUSDT', SMA_240=42508.38333333333, SMA_480=42508.38333333333, RSI=0.0), Row(close_time=datetime.datetime(2024, 1, 1, 4, 59, 59, 999000), open_time=datetime.datetime(2024, 1, 1, 4, 0), open=42330.5, high=42399.99, low=42209.46, close=42399.99, vol=715.4176, quote_asset_vol=30271621.000739, number_of_trades=36038, taker_base_asset_vol=371.12012, taker_quote_asset_vol=15703618.9319853, ignore=0, ticker='BTCUSDT', SMA_240=42481.284999999996, SMA_480=42481.284999999996, RSI=19.712397538077568), Row(close_time=datetime.datetime(2024, 1, 1, 5, 59, 59, 999000), open_time=datetime.datetime(2024, 1, 1, 5, 0), open=42399.98, high=42406.0, low=42180.77, close=42234.01, vol=736.53152, quote_asset_vol=31159533.4764102, number_of_trades=32200, taker_base_asset_vol=340.69312, taker_quote_asset_vol=14414594.8709419, ignore=0, ticker='BTCUSDT', SMA_240=42431.83, SMA_480=42431.83, RSI=13.402757689711805)]\n"
     ]
    }
   ],
   "source": [
    "btc_data.head(5)"
   ]
  },
  {
   "cell_type": "code",
   "execution_count": 18,
   "id": "3802565c-b305-485f-a431-680380e86889",
   "metadata": {
    "vscode": {
     "languageId": "python_glue_session"
    }
   },
   "outputs": [
    {
     "name": "stdout",
     "output_type": "stream",
     "text": [
      "\n"
     ]
    }
   ],
   "source": [
    "def calculate_bollinger_bands(df, window_size, k):\n",
    "    window_spec = Window.orderBy(\"close_time\").rowsBetween(-window_size + 1, 0)\n",
    "\n",
    "    # find Middle Bollinger Bands\n",
    "    df = df.withColumn(\"Middle_Band\", F.avg(\"close\").over(window_spec))\n",
    "\n",
    "    # Find standard deviation\n",
    "    df = df.withColumn(\"STD\", F.stddev(\"close\").over(window_spec))\n",
    "\n",
    "    # Find the Upper and Lower Bollinger Bands\n",
    "    df = df.withColumn(\"Upper_Band\", F.col(\"Middle_Band\") + (F.col(\"STD\") * k))\n",
    "    df = df.withColumn(\"Lower_Band\", F.col(\"Middle_Band\") - (F.col(\"STD\") * k))\n",
    "\n",
    "    return df"
   ]
  },
  {
   "cell_type": "code",
   "execution_count": 65,
   "id": "0d336dd4-4ab5-4c3d-bb74-dfffec0c1010",
   "metadata": {
    "vscode": {
     "languageId": "python_glue_session"
    }
   },
   "outputs": [
    {
     "name": "stdout",
     "output_type": "stream",
     "text": [
      "\n"
     ]
    }
   ],
   "source": [
    "# Calculate Bollinger Bands for both BTC and ETH with period = 20 days\n",
    "btc_data = calculate_bollinger_bands(btc_data, 480, 2)"
   ]
  },
  {
   "cell_type": "code",
   "execution_count": 66,
   "id": "49ac6cb4-1682-480b-b4a6-d4b72d4a6b59",
   "metadata": {
    "vscode": {
     "languageId": "python_glue_session"
    }
   },
   "outputs": [
    {
     "name": "stdout",
     "output_type": "stream",
     "text": [
      "[Row(close_time=datetime.datetime(2024, 1, 1, 1, 59, 59, 999000), open_time=datetime.datetime(2024, 1, 1, 1, 0), open=42475.23, high=42775.0, low=42431.65, close=42613.56, vol=1196.37856, quote_asset_vol=50984893.3481416, number_of_trades=50396, taker_base_asset_vol=712.32227, taker_quote_asset_vol=30355645.3482764, ignore=0, ticker='BTCUSDT', SMA_240=42613.56, SMA_480=42613.56, RSI=None, Middle_Band=42613.56, STD=None, Upper_Band=None, Lower_Band=None)]\n"
     ]
    }
   ],
   "source": [
    "btc_data.head(1)"
   ]
  },
  {
   "cell_type": "markdown",
   "id": "1747398b-d526-4cd8-9f78-26d4b81bd339",
   "metadata": {},
   "source": [
    "### Upload the processed data"
   ]
  },
  {
   "cell_type": "code",
   "execution_count": 67,
   "id": "3f480301-c12d-4ef7-8765-fa920c103c61",
   "metadata": {
    "vscode": {
     "languageId": "python_glue_session"
    }
   },
   "outputs": [
    {
     "name": "stdout",
     "output_type": "stream",
     "text": [
      "\n"
     ]
    }
   ],
   "source": [
    "btc_output_path = f\"s3://{bucket_name}/marketdata/processed_crypto/BTCUSDT-{year}-processed.parquet\""
   ]
  },
  {
   "cell_type": "code",
   "execution_count": 68,
   "id": "3ec7dffa-a294-4d24-9690-2119eb90e4a4",
   "metadata": {
    "vscode": {
     "languageId": "python_glue_session"
    }
   },
   "outputs": [
    {
     "name": "stdout",
     "output_type": "stream",
     "text": [
      "\n"
     ]
    }
   ],
   "source": [
    "btc_data.write.mode(\"overwrite\").parquet(btc_output_path)"
   ]
  },
  {
   "cell_type": "code",
   "execution_count": 6,
   "id": "f0cd1e7d-ee6d-4583-83c4-240207b20690",
   "metadata": {
    "vscode": {
     "languageId": "python_glue_session"
    }
   },
   "outputs": [
    {
     "name": "stdout",
     "output_type": "stream",
     "text": [
      "2024-11-30 15:06:13     427631 marketdata/processed_crypto/BTCUSDT-2017-processed.parquet/part-00000-d7a4f3ec-e756-48ca-a8aa-8ea2701993db-c000.snappy.parquet\n",
      "2024-11-30 15:07:18    1077173 marketdata/processed_crypto/BTCUSDT-2018-processed.parquet/part-00000-878fe21e-900b-4430-a2ad-2dbd490879b3-c000.snappy.parquet\n",
      "2024-11-30 15:07:49    1077146 marketdata/processed_crypto/BTCUSDT-2019-processed.parquet/part-00000-5db41e6a-3fa0-4af3-8e1e-0a6a02583f64-c000.snappy.parquet\n",
      "2024-11-30 15:08:11    1087753 marketdata/processed_crypto/BTCUSDT-2020-processed.parquet/part-00000-9a461648-bdc4-4c97-ae82-cb769e491c50-c000.snappy.parquet\n",
      "2024-11-30 15:08:29    1095992 marketdata/processed_crypto/BTCUSDT-2021-processed.parquet/part-00000-85957820-5333-4681-8281-018860e0fe9d-c000.snappy.parquet\n",
      "2024-11-30 15:08:58    1095197 marketdata/processed_crypto/BTCUSDT-2022-processed.parquet/part-00000-0dd79008-0526-46f8-81ff-ac12bae5addb-c000.snappy.parquet\n",
      "2024-11-30 15:09:30    1091682 marketdata/processed_crypto/BTCUSDT-2023-processed.parquet/part-00000-17608683-f831-429f-bc0b-e4e80a57ec33-c000.snappy.parquet\n",
      "2024-11-30 15:09:57     913386 marketdata/processed_crypto/BTCUSDT-2024-processed.parquet/part-00000-6d701569-24b3-4e45-b062-87c4531b6c42-c000.snappy.parquet\n"
     ]
    }
   ],
   "source": [
    "!aws s3 ls s3://crypto-marketdata-marketdatabucket-m13jkiz8o4p7/marketdata/processed_crypto --recursive"
   ]
  },
  {
   "cell_type": "code",
   "execution_count": 8,
   "id": "6946800a-a8bc-4e56-8a37-a000f1096985",
   "metadata": {
    "vscode": {
     "languageId": "python_glue_session"
    }
   },
   "outputs": [
    {
     "name": "stdout",
     "output_type": "stream",
     "text": [
      "Stopping session: 5c29d583-1396-4994-90fc-74ad9ce23eaa\n",
      "Stopped session.\n"
     ]
    }
   ],
   "source": [
    "%stop_session "
   ]
  }
 ],
 "metadata": {
  "kernelspec": {
   "display_name": "Glue PySpark",
   "language": "python",
   "name": "glue_pyspark"
  },
  "language_info": {
   "codemirror_mode": {
    "name": "python",
    "version": 3
   },
   "file_extension": ".py",
   "mimetype": "text/x-python",
   "name": "Python_Glue_Session",
   "pygments_lexer": "python3"
  }
 },
 "nbformat": 4,
 "nbformat_minor": 5
}
